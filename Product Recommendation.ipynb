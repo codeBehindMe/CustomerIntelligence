{
 "cells": [
  {
   "cell_type": "markdown",
   "metadata": {},
   "source": [
    "# Product Recommendation\n",
    "\n",
    "There are heaps of prediction models that can be developed in this space, all the way from sales forecasts to advertising. But it wouldn't be right if we didn't try to implement the sexiest model going around; product recommendation using collaborative filtering. Let's dive in."
   ]
  },
  {
   "cell_type": "code",
   "execution_count": 1,
   "metadata": {},
   "outputs": [],
   "source": [
    "import pandas as pd\n",
    "import tensorflow as tf\n",
    "import numpy as np\n",
    "from scipy.sparse import coo_matrix\n",
    "from sklearn.model_selection import train_test_split\n",
    "from tensorflow.contrib.factorization.python.ops import factorization_ops\n",
    "np.set_printoptions(suppress=True)"
   ]
  },
  {
   "cell_type": "code",
   "execution_count": 2,
   "metadata": {},
   "outputs": [
    {
     "data": {
      "text/html": [
       "<div>\n",
       "<style scoped>\n",
       "    .dataframe tbody tr th:only-of-type {\n",
       "        vertical-align: middle;\n",
       "    }\n",
       "\n",
       "    .dataframe tbody tr th {\n",
       "        vertical-align: top;\n",
       "    }\n",
       "\n",
       "    .dataframe thead th {\n",
       "        text-align: right;\n",
       "    }\n",
       "</style>\n",
       "<table border=\"1\" class=\"dataframe\">\n",
       "  <thead>\n",
       "    <tr style=\"text-align: right;\">\n",
       "      <th></th>\n",
       "      <th>﻿CustomerID</th>\n",
       "      <th>FirstName</th>\n",
       "      <th>MiddleInitial</th>\n",
       "      <th>LastName</th>\n",
       "      <th>CityID</th>\n",
       "      <th>Address</th>\n",
       "    </tr>\n",
       "  </thead>\n",
       "  <tbody>\n",
       "    <tr>\n",
       "      <th>0</th>\n",
       "      <td>1</td>\n",
       "      <td>Stefanie</td>\n",
       "      <td>Y</td>\n",
       "      <td>Frye</td>\n",
       "      <td>79</td>\n",
       "      <td>97 Oak Avenue</td>\n",
       "    </tr>\n",
       "    <tr>\n",
       "      <th>1</th>\n",
       "      <td>2</td>\n",
       "      <td>Sandy</td>\n",
       "      <td>T</td>\n",
       "      <td>Kirby</td>\n",
       "      <td>96</td>\n",
       "      <td>52 White First Freeway</td>\n",
       "    </tr>\n",
       "    <tr>\n",
       "      <th>2</th>\n",
       "      <td>3</td>\n",
       "      <td>Lee</td>\n",
       "      <td>T</td>\n",
       "      <td>Zhang</td>\n",
       "      <td>55</td>\n",
       "      <td>921 White Fabien Avenue</td>\n",
       "    </tr>\n",
       "    <tr>\n",
       "      <th>3</th>\n",
       "      <td>4</td>\n",
       "      <td>Regina</td>\n",
       "      <td>S</td>\n",
       "      <td>Avery</td>\n",
       "      <td>40</td>\n",
       "      <td>75 Old Avenue</td>\n",
       "    </tr>\n",
       "    <tr>\n",
       "      <th>4</th>\n",
       "      <td>5</td>\n",
       "      <td>Daniel</td>\n",
       "      <td>S</td>\n",
       "      <td>Mccann</td>\n",
       "      <td>2</td>\n",
       "      <td>283 South Green Hague Avenue</td>\n",
       "    </tr>\n",
       "  </tbody>\n",
       "</table>\n",
       "</div>"
      ],
      "text/plain": [
       "   ﻿CustomerID FirstName MiddleInitial LastName  CityID  \\\n",
       "0            1  Stefanie             Y     Frye      79   \n",
       "1            2     Sandy             T    Kirby      96   \n",
       "2            3       Lee             T    Zhang      55   \n",
       "3            4    Regina             S    Avery      40   \n",
       "4            5    Daniel             S   Mccann       2   \n",
       "\n",
       "                        Address  \n",
       "0                 97 Oak Avenue  \n",
       "1        52 White First Freeway  \n",
       "2       921 White Fabien Avenue  \n",
       "3                 75 Old Avenue  \n",
       "4  283 South Green Hague Avenue  "
      ]
     },
     "execution_count": 2,
     "metadata": {},
     "output_type": "execute_result"
    }
   ],
   "source": [
    "customer = pd.read_csv(\"data/customer.csv\")\n",
    "product = pd.read_csv(\"data/product.csv\")\n",
    "transaction = pd.read_csv(\"data/transaction.csv\").rename(columns={'\\ufeffSalesID':'SalesID'}) # Column rename.\n",
    "customer.head(5)"
   ]
  },
  {
   "cell_type": "code",
   "execution_count": 3,
   "metadata": {},
   "outputs": [
    {
     "data": {
      "text/html": [
       "<div>\n",
       "<style scoped>\n",
       "    .dataframe tbody tr th:only-of-type {\n",
       "        vertical-align: middle;\n",
       "    }\n",
       "\n",
       "    .dataframe tbody tr th {\n",
       "        vertical-align: top;\n",
       "    }\n",
       "\n",
       "    .dataframe thead th {\n",
       "        text-align: right;\n",
       "    }\n",
       "</style>\n",
       "<table border=\"1\" class=\"dataframe\">\n",
       "  <thead>\n",
       "    <tr style=\"text-align: right;\">\n",
       "      <th></th>\n",
       "      <th>﻿ProductID</th>\n",
       "      <th>ProductName</th>\n",
       "      <th>Price</th>\n",
       "      <th>CategoryID</th>\n",
       "      <th>Class</th>\n",
       "      <th>ModifyDate</th>\n",
       "      <th>Resistant</th>\n",
       "      <th>IsAllergic</th>\n",
       "      <th>VitalityDays</th>\n",
       "    </tr>\n",
       "  </thead>\n",
       "  <tbody>\n",
       "    <tr>\n",
       "      <th>0</th>\n",
       "      <td>1</td>\n",
       "      <td>Flour - Whole Wheat</td>\n",
       "      <td>74,2988</td>\n",
       "      <td>3</td>\n",
       "      <td>Medium</td>\n",
       "      <td>2018-02-16 08:21:49.190</td>\n",
       "      <td>Durable</td>\n",
       "      <td>NaN</td>\n",
       "      <td>NaN</td>\n",
       "    </tr>\n",
       "    <tr>\n",
       "      <th>1</th>\n",
       "      <td>2</td>\n",
       "      <td>Cookie Chocolate Chip With</td>\n",
       "      <td>91,2329</td>\n",
       "      <td>3</td>\n",
       "      <td>Medium</td>\n",
       "      <td>2017-02-12 11:39:10.970</td>\n",
       "      <td>NaN</td>\n",
       "      <td>NaN</td>\n",
       "      <td>NaN</td>\n",
       "    </tr>\n",
       "    <tr>\n",
       "      <th>2</th>\n",
       "      <td>3</td>\n",
       "      <td>Onions - Cippolini</td>\n",
       "      <td>9,1379</td>\n",
       "      <td>9</td>\n",
       "      <td>Medium</td>\n",
       "      <td>2018-03-15 08:11:51.560</td>\n",
       "      <td>Weak</td>\n",
       "      <td>False</td>\n",
       "      <td>111.0</td>\n",
       "    </tr>\n",
       "    <tr>\n",
       "      <th>3</th>\n",
       "      <td>4</td>\n",
       "      <td>Sauce - Gravy, Au Jus, Mix</td>\n",
       "      <td>54,3055</td>\n",
       "      <td>9</td>\n",
       "      <td>Medium</td>\n",
       "      <td>2017-07-16 00:46:28.880</td>\n",
       "      <td>Durable</td>\n",
       "      <td>NaN</td>\n",
       "      <td>NaN</td>\n",
       "    </tr>\n",
       "    <tr>\n",
       "      <th>4</th>\n",
       "      <td>5</td>\n",
       "      <td>Artichokes - Jerusalem</td>\n",
       "      <td>65,4771</td>\n",
       "      <td>2</td>\n",
       "      <td>Low</td>\n",
       "      <td>2017-08-16 14:13:35.430</td>\n",
       "      <td>Durable</td>\n",
       "      <td>True</td>\n",
       "      <td>27.0</td>\n",
       "    </tr>\n",
       "  </tbody>\n",
       "</table>\n",
       "</div>"
      ],
      "text/plain": [
       "   ﻿ProductID                 ProductName    Price  CategoryID   Class  \\\n",
       "0           1         Flour - Whole Wheat  74,2988           3  Medium   \n",
       "1           2  Cookie Chocolate Chip With  91,2329           3  Medium   \n",
       "2           3          Onions - Cippolini   9,1379           9  Medium   \n",
       "3           4  Sauce - Gravy, Au Jus, Mix  54,3055           9  Medium   \n",
       "4           5      Artichokes - Jerusalem  65,4771           2     Low   \n",
       "\n",
       "                ModifyDate Resistant IsAllergic  VitalityDays  \n",
       "0  2018-02-16 08:21:49.190   Durable        NaN           NaN  \n",
       "1  2017-02-12 11:39:10.970       NaN        NaN           NaN  \n",
       "2  2018-03-15 08:11:51.560      Weak      False         111.0  \n",
       "3  2017-07-16 00:46:28.880   Durable        NaN           NaN  \n",
       "4  2017-08-16 14:13:35.430   Durable       True          27.0  "
      ]
     },
     "execution_count": 3,
     "metadata": {},
     "output_type": "execute_result"
    }
   ],
   "source": [
    "product.head(5)"
   ]
  },
  {
   "cell_type": "code",
   "execution_count": 4,
   "metadata": {},
   "outputs": [
    {
     "data": {
      "text/html": [
       "<div>\n",
       "<style scoped>\n",
       "    .dataframe tbody tr th:only-of-type {\n",
       "        vertical-align: middle;\n",
       "    }\n",
       "\n",
       "    .dataframe tbody tr th {\n",
       "        vertical-align: top;\n",
       "    }\n",
       "\n",
       "    .dataframe thead th {\n",
       "        text-align: right;\n",
       "    }\n",
       "</style>\n",
       "<table border=\"1\" class=\"dataframe\">\n",
       "  <thead>\n",
       "    <tr style=\"text-align: right;\">\n",
       "      <th></th>\n",
       "      <th>SalesID</th>\n",
       "      <th>SalesPersonID</th>\n",
       "      <th>CustomerID</th>\n",
       "      <th>ProductID</th>\n",
       "      <th>Quantity</th>\n",
       "      <th>Discount</th>\n",
       "      <th>TotalPrice</th>\n",
       "      <th>SalesDate</th>\n",
       "      <th>TransactionNumber</th>\n",
       "    </tr>\n",
       "  </thead>\n",
       "  <tbody>\n",
       "    <tr>\n",
       "      <th>0</th>\n",
       "      <td>1</td>\n",
       "      <td>6</td>\n",
       "      <td>27039</td>\n",
       "      <td>381</td>\n",
       "      <td>7</td>\n",
       "      <td>NaN</td>\n",
       "      <td>0,00</td>\n",
       "      <td>2018-02-05 07:38:25.430</td>\n",
       "      <td>FQL4S94E4ME1EZFTG42G</td>\n",
       "    </tr>\n",
       "    <tr>\n",
       "      <th>1</th>\n",
       "      <td>2</td>\n",
       "      <td>16</td>\n",
       "      <td>25011</td>\n",
       "      <td>61</td>\n",
       "      <td>7</td>\n",
       "      <td>NaN</td>\n",
       "      <td>0,00</td>\n",
       "      <td>2018-02-02 16:03:31.150</td>\n",
       "      <td>12UGLX40DJ1A5DTFBHB8</td>\n",
       "    </tr>\n",
       "    <tr>\n",
       "      <th>2</th>\n",
       "      <td>3</td>\n",
       "      <td>13</td>\n",
       "      <td>94024</td>\n",
       "      <td>23</td>\n",
       "      <td>24</td>\n",
       "      <td>NaN</td>\n",
       "      <td>0,00</td>\n",
       "      <td>2018-05-03 19:31:56.880</td>\n",
       "      <td>5DT8RCPL87KI5EORO7B0</td>\n",
       "    </tr>\n",
       "    <tr>\n",
       "      <th>3</th>\n",
       "      <td>4</td>\n",
       "      <td>8</td>\n",
       "      <td>73966</td>\n",
       "      <td>176</td>\n",
       "      <td>19</td>\n",
       "      <td>0.2</td>\n",
       "      <td>0,00</td>\n",
       "      <td>2018-04-07 14:43:55.420</td>\n",
       "      <td>R3DR9MLD5NR76VO17ULE</td>\n",
       "    </tr>\n",
       "    <tr>\n",
       "      <th>4</th>\n",
       "      <td>5</td>\n",
       "      <td>10</td>\n",
       "      <td>32653</td>\n",
       "      <td>310</td>\n",
       "      <td>9</td>\n",
       "      <td>NaN</td>\n",
       "      <td>0,00</td>\n",
       "      <td>2018-02-12 15:37:03.940</td>\n",
       "      <td>4BGS0Z5OMAZ8NDAFHHP3</td>\n",
       "    </tr>\n",
       "  </tbody>\n",
       "</table>\n",
       "</div>"
      ],
      "text/plain": [
       "   SalesID  SalesPersonID  CustomerID  ProductID  Quantity  Discount  \\\n",
       "0        1              6       27039        381         7       NaN   \n",
       "1        2             16       25011         61         7       NaN   \n",
       "2        3             13       94024         23        24       NaN   \n",
       "3        4              8       73966        176        19       0.2   \n",
       "4        5             10       32653        310         9       NaN   \n",
       "\n",
       "  TotalPrice                SalesDate     TransactionNumber  \n",
       "0       0,00  2018-02-05 07:38:25.430  FQL4S94E4ME1EZFTG42G  \n",
       "1       0,00  2018-02-02 16:03:31.150  12UGLX40DJ1A5DTFBHB8  \n",
       "2       0,00  2018-05-03 19:31:56.880  5DT8RCPL87KI5EORO7B0  \n",
       "3       0,00  2018-04-07 14:43:55.420  R3DR9MLD5NR76VO17ULE  \n",
       "4       0,00  2018-02-12 15:37:03.940  4BGS0Z5OMAZ8NDAFHHP3  "
      ]
     },
     "execution_count": 4,
     "metadata": {},
     "output_type": "execute_result"
    }
   ],
   "source": [
    "transaction.head(5)"
   ]
  },
  {
   "cell_type": "markdown",
   "metadata": {},
   "source": [
    "Colaborative filtering is usually implemented via matrix factorisation, so we need to convert this data set into a essentially a massive sparse matrix."
   ]
  },
  {
   "cell_type": "code",
   "execution_count": 5,
   "metadata": {},
   "outputs": [
    {
     "data": {
      "text/html": [
       "<div>\n",
       "<style scoped>\n",
       "    .dataframe tbody tr th:only-of-type {\n",
       "        vertical-align: middle;\n",
       "    }\n",
       "\n",
       "    .dataframe tbody tr th {\n",
       "        vertical-align: top;\n",
       "    }\n",
       "\n",
       "    .dataframe thead th {\n",
       "        text-align: right;\n",
       "    }\n",
       "</style>\n",
       "<table border=\"1\" class=\"dataframe\">\n",
       "  <thead>\n",
       "    <tr style=\"text-align: right;\">\n",
       "      <th></th>\n",
       "      <th>CustomerID</th>\n",
       "      <th>ProductID</th>\n",
       "    </tr>\n",
       "  </thead>\n",
       "  <tbody>\n",
       "    <tr>\n",
       "      <th>0</th>\n",
       "      <td>27039</td>\n",
       "      <td>381</td>\n",
       "    </tr>\n",
       "    <tr>\n",
       "      <th>1</th>\n",
       "      <td>25011</td>\n",
       "      <td>61</td>\n",
       "    </tr>\n",
       "    <tr>\n",
       "      <th>2</th>\n",
       "      <td>94024</td>\n",
       "      <td>23</td>\n",
       "    </tr>\n",
       "    <tr>\n",
       "      <th>3</th>\n",
       "      <td>73966</td>\n",
       "      <td>176</td>\n",
       "    </tr>\n",
       "    <tr>\n",
       "      <th>4</th>\n",
       "      <td>32653</td>\n",
       "      <td>310</td>\n",
       "    </tr>\n",
       "  </tbody>\n",
       "</table>\n",
       "</div>"
      ],
      "text/plain": [
       "   CustomerID  ProductID\n",
       "0       27039        381\n",
       "1       25011         61\n",
       "2       94024         23\n",
       "3       73966        176\n",
       "4       32653        310"
      ]
     },
     "execution_count": 5,
     "metadata": {},
     "output_type": "execute_result"
    }
   ],
   "source": [
    "# Subset the sales to customer and product.\n",
    "tx_minimal = transaction[['CustomerID','ProductID']]\n",
    "tx_minimal.head()"
   ]
  },
  {
   "cell_type": "code",
   "execution_count": 6,
   "metadata": {},
   "outputs": [
    {
     "name": "stdout",
     "output_type": "stream",
     "text": [
      "98759 452\n"
     ]
    }
   ],
   "source": [
    "# Get the counts for customers and products\n",
    "n_customers = len(tx_minimal['CustomerID'].unique())\n",
    "n_products = len(tx_minimal['ProductID'].unique())\n",
    "print(n_customers, n_products)"
   ]
  },
  {
   "cell_type": "code",
   "execution_count": 7,
   "metadata": {},
   "outputs": [
    {
     "name": "stdout",
     "output_type": "stream",
     "text": [
      "Min_customer: CustomerID    1\n",
      "dtype: int64 \n",
      " Min_Product: ProductID    1\n",
      "dtype: int64\n"
     ]
    }
   ],
   "source": [
    "# Check the min customer and product id\n",
    "print(\"Min_customer: {0} \\n Min_Product: {1}\".format(tx_minimal[['CustomerID']].min(), tx_minimal[['ProductID']].min()))"
   ]
  },
  {
   "cell_type": "code",
   "execution_count": 8,
   "metadata": {},
   "outputs": [],
   "source": [
    "# Make the customers zero indexed for matrix operations\n",
    "def map_identifier(identifier):\n",
    "    return identifier - 1\n",
    "\n",
    "tx_minimal = tx_minimal.apply(map_identifier)"
   ]
  },
  {
   "cell_type": "code",
   "execution_count": 9,
   "metadata": {},
   "outputs": [
    {
     "name": "stdout",
     "output_type": "stream",
     "text": [
      "Min_customer: CustomerID    0\n",
      "dtype: int64 \n",
      " Min_Product: ProductID    0\n",
      "dtype: int64\n"
     ]
    }
   ],
   "source": [
    "print(\"Min_customer: {0} \\n Min_Product: {1}\".format(tx_minimal[['CustomerID']].min(), tx_minimal[['ProductID']].min()))"
   ]
  },
  {
   "cell_type": "code",
   "execution_count": 10,
   "metadata": {},
   "outputs": [
    {
     "name": "stderr",
     "output_type": "stream",
     "text": [
      "/usr/local/lib/python3.5/dist-packages/ipykernel_launcher.py:1: FutureWarning: Method .as_matrix will be removed in a future version. Use .values instead.\n",
      "  \"\"\"Entry point for launching an IPython kernel.\n"
     ]
    }
   ],
   "source": [
    "tx_matrix = tx_minimal.as_matrix()"
   ]
  },
  {
   "cell_type": "code",
   "execution_count": 11,
   "metadata": {},
   "outputs": [
    {
     "data": {
      "text/plain": [
       "array([[27038,   380],\n",
       "       [25010,    60],\n",
       "       [94023,    22],\n",
       "       ...,\n",
       "       [44736,   377],\n",
       "       [79524,    76],\n",
       "       [95837,   401]])"
      ]
     },
     "execution_count": 11,
     "metadata": {},
     "output_type": "execute_result"
    }
   ],
   "source": [
    "tx_matrix"
   ]
  },
  {
   "cell_type": "code",
   "execution_count": 12,
   "metadata": {},
   "outputs": [
    {
     "data": {
      "text/plain": [
       "array([[27038,   380,     1],\n",
       "       [25010,    60,     1],\n",
       "       [94023,    22,     1],\n",
       "       ...,\n",
       "       [44736,   377,     1],\n",
       "       [79524,    76,     1],\n",
       "       [95837,   401,     1]])"
      ]
     },
     "execution_count": 12,
     "metadata": {},
     "output_type": "execute_result"
    }
   ],
   "source": [
    "# Append a column of 1s to signify that this user bought this product\n",
    "bought = np.ones((tx_matrix.shape[0],3))\n",
    "bought[:,:-1] = tx_matrix\n",
    "tx_matrix = bought.astype(int)\n",
    "tx_matrix"
   ]
  },
  {
   "cell_type": "code",
   "execution_count": 13,
   "metadata": {},
   "outputs": [],
   "source": [
    "tr_m, ts_m = train_test_split(tx_matrix,test_size = 0.1)"
   ]
  },
  {
   "cell_type": "code",
   "execution_count": 14,
   "metadata": {},
   "outputs": [
    {
     "data": {
      "text/plain": [
       "(900000, 3)"
      ]
     },
     "execution_count": 14,
     "metadata": {},
     "output_type": "execute_result"
    }
   ],
   "source": [
    "tr_m.shape"
   ]
  },
  {
   "cell_type": "code",
   "execution_count": 15,
   "metadata": {},
   "outputs": [
    {
     "data": {
      "text/plain": [
       "(100000, 3)"
      ]
     },
     "execution_count": 15,
     "metadata": {},
     "output_type": "execute_result"
    }
   ],
   "source": [
    "ts_m.shape"
   ]
  },
  {
   "cell_type": "code",
   "execution_count": 16,
   "metadata": {},
   "outputs": [],
   "source": [
    "c_tr , p_tr, b_tr = zip(*tr_m)"
   ]
  },
  {
   "cell_type": "code",
   "execution_count": 17,
   "metadata": {},
   "outputs": [],
   "source": [
    "tr_sparse = coo_matrix((b_tr, (c_tr, p_tr)), shape=(n_customers, n_products))"
   ]
  },
  {
   "cell_type": "code",
   "execution_count": 18,
   "metadata": {},
   "outputs": [],
   "source": [
    "input_tensor = tf.SparseTensor(indices=list(zip(tr_sparse.row,tr_sparse.col))\n",
    "                               ,values=(tr_sparse.data).astype(np.float32)\n",
    "                               ,dense_shape=tr_sparse.shape)\n"
   ]
  },
  {
   "cell_type": "code",
   "execution_count": null,
   "metadata": {},
   "outputs": [
    {
     "name": "stdout",
     "output_type": "stream",
     "text": [
      "WARNING:tensorflow:From /usr/local/lib/python3.5/dist-packages/tensorflow/python/framework/op_def_library.py:263: colocate_with (from tensorflow.python.framework.ops) is deprecated and will be removed in a future version.\n",
      "Instructions for updating:\n",
      "Colocations handled automatically by placer.\n"
     ]
    }
   ],
   "source": [
    "model = factorization_ops.WALSModel(tr_sparse.shape[0],tr_sparse.shape[1], 10)"
   ]
  },
  {
   "cell_type": "code",
   "execution_count": null,
   "metadata": {},
   "outputs": [],
   "source": [
    "row_factor = model.row_factors[0]\n",
    "col_factor = model.col_factors[0]"
   ]
  },
  {
   "cell_type": "code",
   "execution_count": null,
   "metadata": {},
   "outputs": [],
   "source": [
    "# Train the Model\n",
    "row_update_op = model.update_row_factors(sp_input = input_tensor)[0]\n",
    "col_update_op = model.update_col_factors(sp_input = input_tensor)[1]"
   ]
  },
  {
   "cell_type": "code",
   "execution_count": null,
   "metadata": {},
   "outputs": [],
   "source": [
    "with tf.Session() as sess:\n",
    "    sess.run(model.initialize_op)\n",
    "    sess.run(model.worker_init)\n",
    "    \n",
    "    for _ in range(1000):\n",
    "        sess.run(model.row_update_prep_gramian_op)\n",
    "        sess.run(model.initialize_row_update_op)\n",
    "        sess.run(row_update_op)\n",
    "        sess.run(model.col_update_prep_gramian_op)\n",
    "        sess.run(model.initialize_col_update_op)\n",
    "        sess.run(col_update_op)\n",
    "        \n",
    "        output_row = row_factor.eval(session=sess)\n",
    "        output_col = col_factor.eval(session=sess)"
   ]
  },
  {
   "cell_type": "code",
   "execution_count": null,
   "metadata": {},
   "outputs": [],
   "source": [
    "output_row.shape"
   ]
  },
  {
   "cell_type": "code",
   "execution_count": null,
   "metadata": {},
   "outputs": [],
   "source": [
    "# Predict \n",
    "user_id = 33165\n",
    "user_factor = output_row[1]"
   ]
  },
  {
   "cell_type": "code",
   "execution_count": null,
   "metadata": {},
   "outputs": [],
   "source": [
    "pred = output_col.dot(user_factor)"
   ]
  },
  {
   "cell_type": "code",
   "execution_count": null,
   "metadata": {},
   "outputs": [],
   "source": [
    "candidate_items = np.argsort(pred)"
   ]
  },
  {
   "cell_type": "code",
   "execution_count": null,
   "metadata": {},
   "outputs": [],
   "source": [
    "candidate_items"
   ]
  },
  {
   "cell_type": "code",
   "execution_count": null,
   "metadata": {},
   "outputs": [],
   "source": [
    "10 + len([3,4,5])"
   ]
  },
  {
   "cell_type": "code",
   "execution_count": null,
   "metadata": {},
   "outputs": [],
   "source": [
    "candidate_items[-13:]"
   ]
  },
  {
   "cell_type": "code",
   "execution_count": null,
   "metadata": {},
   "outputs": [],
   "source": [
    "product[product['\\ufeffProductID'] == 342]"
   ]
  },
  {
   "cell_type": "code",
   "execution_count": null,
   "metadata": {},
   "outputs": [],
   "source": [
    "product.columns.values"
   ]
  },
  {
   "cell_type": "code",
   "execution_count": null,
   "metadata": {},
   "outputs": [],
   "source": [
    "ts_m"
   ]
  },
  {
   "cell_type": "code",
   "execution_count": null,
   "metadata": {},
   "outputs": [],
   "source": []
  }
 ],
 "metadata": {
  "kernelspec": {
   "display_name": "Python 3",
   "language": "python",
   "name": "python3"
  },
  "language_info": {
   "codemirror_mode": {
    "name": "ipython",
    "version": 3
   },
   "file_extension": ".py",
   "mimetype": "text/x-python",
   "name": "python",
   "nbconvert_exporter": "python",
   "pygments_lexer": "ipython3",
   "version": "3.5.2"
  }
 },
 "nbformat": 4,
 "nbformat_minor": 2
}
