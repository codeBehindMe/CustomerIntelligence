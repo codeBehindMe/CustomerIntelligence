{
 "cells": [
  {
   "cell_type": "markdown",
   "metadata": {},
   "source": [
    "# Product Recommendation\n",
    "\n",
    "There are heaps of prediction models that can be developed in this space, all the way from sales forecasts to advertising. But it wouldn't be right if we didn't try to implement the sexiest model going around; product recommendation using collaborative filtering. Let's dive in."
   ]
  },
  {
   "cell_type": "code",
   "execution_count": 1,
   "metadata": {},
   "outputs": [],
   "source": [
    "import pandas as pd\n",
    "import tensorflow as tf\n",
    "import numpy as np\n",
    "from scipy.sparse import coo_matrix\n",
    "from sklearn.model_selection import train_test_split\n",
    "from tensorflow.contrib.factorization.python.ops import factorization_ops\n",
    "import logging\n",
    "np.set_printoptions(suppress=True)"
   ]
  },
  {
   "cell_type": "code",
   "execution_count": 2,
   "metadata": {},
   "outputs": [],
   "source": [
    "logger = logging.getLogger('tensorflow')\n",
    "logger.setLevel(logging.DEBUG)"
   ]
  },
  {
   "cell_type": "code",
   "execution_count": 3,
   "metadata": {},
   "outputs": [
    {
     "data": {
      "text/html": [
       "<div>\n",
       "<style scoped>\n",
       "    .dataframe tbody tr th:only-of-type {\n",
       "        vertical-align: middle;\n",
       "    }\n",
       "\n",
       "    .dataframe tbody tr th {\n",
       "        vertical-align: top;\n",
       "    }\n",
       "\n",
       "    .dataframe thead th {\n",
       "        text-align: right;\n",
       "    }\n",
       "</style>\n",
       "<table border=\"1\" class=\"dataframe\">\n",
       "  <thead>\n",
       "    <tr style=\"text-align: right;\">\n",
       "      <th></th>\n",
       "      <th>﻿CustomerID</th>\n",
       "      <th>FirstName</th>\n",
       "      <th>MiddleInitial</th>\n",
       "      <th>LastName</th>\n",
       "      <th>CityID</th>\n",
       "      <th>Address</th>\n",
       "    </tr>\n",
       "  </thead>\n",
       "  <tbody>\n",
       "    <tr>\n",
       "      <th>0</th>\n",
       "      <td>1</td>\n",
       "      <td>Stefanie</td>\n",
       "      <td>Y</td>\n",
       "      <td>Frye</td>\n",
       "      <td>79</td>\n",
       "      <td>97 Oak Avenue</td>\n",
       "    </tr>\n",
       "    <tr>\n",
       "      <th>1</th>\n",
       "      <td>2</td>\n",
       "      <td>Sandy</td>\n",
       "      <td>T</td>\n",
       "      <td>Kirby</td>\n",
       "      <td>96</td>\n",
       "      <td>52 White First Freeway</td>\n",
       "    </tr>\n",
       "    <tr>\n",
       "      <th>2</th>\n",
       "      <td>3</td>\n",
       "      <td>Lee</td>\n",
       "      <td>T</td>\n",
       "      <td>Zhang</td>\n",
       "      <td>55</td>\n",
       "      <td>921 White Fabien Avenue</td>\n",
       "    </tr>\n",
       "    <tr>\n",
       "      <th>3</th>\n",
       "      <td>4</td>\n",
       "      <td>Regina</td>\n",
       "      <td>S</td>\n",
       "      <td>Avery</td>\n",
       "      <td>40</td>\n",
       "      <td>75 Old Avenue</td>\n",
       "    </tr>\n",
       "    <tr>\n",
       "      <th>4</th>\n",
       "      <td>5</td>\n",
       "      <td>Daniel</td>\n",
       "      <td>S</td>\n",
       "      <td>Mccann</td>\n",
       "      <td>2</td>\n",
       "      <td>283 South Green Hague Avenue</td>\n",
       "    </tr>\n",
       "  </tbody>\n",
       "</table>\n",
       "</div>"
      ],
      "text/plain": [
       "   ﻿CustomerID FirstName MiddleInitial LastName  CityID  \\\n",
       "0            1  Stefanie             Y     Frye      79   \n",
       "1            2     Sandy             T    Kirby      96   \n",
       "2            3       Lee             T    Zhang      55   \n",
       "3            4    Regina             S    Avery      40   \n",
       "4            5    Daniel             S   Mccann       2   \n",
       "\n",
       "                        Address  \n",
       "0                 97 Oak Avenue  \n",
       "1        52 White First Freeway  \n",
       "2       921 White Fabien Avenue  \n",
       "3                 75 Old Avenue  \n",
       "4  283 South Green Hague Avenue  "
      ]
     },
     "execution_count": 3,
     "metadata": {},
     "output_type": "execute_result"
    }
   ],
   "source": [
    "customer = pd.read_csv(\"data/customer.csv\")\n",
    "product = pd.read_csv(\"data/product.csv\")\n",
    "transaction = pd.read_csv(\"data/transaction.csv\").rename(columns={'\\ufeffSalesID':'SalesID'}) # Column rename.\n",
    "customer.head(5)"
   ]
  },
  {
   "cell_type": "code",
   "execution_count": 4,
   "metadata": {},
   "outputs": [
    {
     "data": {
      "text/html": [
       "<div>\n",
       "<style scoped>\n",
       "    .dataframe tbody tr th:only-of-type {\n",
       "        vertical-align: middle;\n",
       "    }\n",
       "\n",
       "    .dataframe tbody tr th {\n",
       "        vertical-align: top;\n",
       "    }\n",
       "\n",
       "    .dataframe thead th {\n",
       "        text-align: right;\n",
       "    }\n",
       "</style>\n",
       "<table border=\"1\" class=\"dataframe\">\n",
       "  <thead>\n",
       "    <tr style=\"text-align: right;\">\n",
       "      <th></th>\n",
       "      <th>﻿ProductID</th>\n",
       "      <th>ProductName</th>\n",
       "      <th>Price</th>\n",
       "      <th>CategoryID</th>\n",
       "      <th>Class</th>\n",
       "      <th>ModifyDate</th>\n",
       "      <th>Resistant</th>\n",
       "      <th>IsAllergic</th>\n",
       "      <th>VitalityDays</th>\n",
       "    </tr>\n",
       "  </thead>\n",
       "  <tbody>\n",
       "    <tr>\n",
       "      <th>0</th>\n",
       "      <td>1</td>\n",
       "      <td>Flour - Whole Wheat</td>\n",
       "      <td>74,2988</td>\n",
       "      <td>3</td>\n",
       "      <td>Medium</td>\n",
       "      <td>2018-02-16 08:21:49.190</td>\n",
       "      <td>Durable</td>\n",
       "      <td>NaN</td>\n",
       "      <td>NaN</td>\n",
       "    </tr>\n",
       "    <tr>\n",
       "      <th>1</th>\n",
       "      <td>2</td>\n",
       "      <td>Cookie Chocolate Chip With</td>\n",
       "      <td>91,2329</td>\n",
       "      <td>3</td>\n",
       "      <td>Medium</td>\n",
       "      <td>2017-02-12 11:39:10.970</td>\n",
       "      <td>NaN</td>\n",
       "      <td>NaN</td>\n",
       "      <td>NaN</td>\n",
       "    </tr>\n",
       "    <tr>\n",
       "      <th>2</th>\n",
       "      <td>3</td>\n",
       "      <td>Onions - Cippolini</td>\n",
       "      <td>9,1379</td>\n",
       "      <td>9</td>\n",
       "      <td>Medium</td>\n",
       "      <td>2018-03-15 08:11:51.560</td>\n",
       "      <td>Weak</td>\n",
       "      <td>False</td>\n",
       "      <td>111.0</td>\n",
       "    </tr>\n",
       "    <tr>\n",
       "      <th>3</th>\n",
       "      <td>4</td>\n",
       "      <td>Sauce - Gravy, Au Jus, Mix</td>\n",
       "      <td>54,3055</td>\n",
       "      <td>9</td>\n",
       "      <td>Medium</td>\n",
       "      <td>2017-07-16 00:46:28.880</td>\n",
       "      <td>Durable</td>\n",
       "      <td>NaN</td>\n",
       "      <td>NaN</td>\n",
       "    </tr>\n",
       "    <tr>\n",
       "      <th>4</th>\n",
       "      <td>5</td>\n",
       "      <td>Artichokes - Jerusalem</td>\n",
       "      <td>65,4771</td>\n",
       "      <td>2</td>\n",
       "      <td>Low</td>\n",
       "      <td>2017-08-16 14:13:35.430</td>\n",
       "      <td>Durable</td>\n",
       "      <td>True</td>\n",
       "      <td>27.0</td>\n",
       "    </tr>\n",
       "  </tbody>\n",
       "</table>\n",
       "</div>"
      ],
      "text/plain": [
       "   ﻿ProductID                 ProductName    Price  CategoryID   Class  \\\n",
       "0           1         Flour - Whole Wheat  74,2988           3  Medium   \n",
       "1           2  Cookie Chocolate Chip With  91,2329           3  Medium   \n",
       "2           3          Onions - Cippolini   9,1379           9  Medium   \n",
       "3           4  Sauce - Gravy, Au Jus, Mix  54,3055           9  Medium   \n",
       "4           5      Artichokes - Jerusalem  65,4771           2     Low   \n",
       "\n",
       "                ModifyDate Resistant IsAllergic  VitalityDays  \n",
       "0  2018-02-16 08:21:49.190   Durable        NaN           NaN  \n",
       "1  2017-02-12 11:39:10.970       NaN        NaN           NaN  \n",
       "2  2018-03-15 08:11:51.560      Weak      False         111.0  \n",
       "3  2017-07-16 00:46:28.880   Durable        NaN           NaN  \n",
       "4  2017-08-16 14:13:35.430   Durable       True          27.0  "
      ]
     },
     "execution_count": 4,
     "metadata": {},
     "output_type": "execute_result"
    }
   ],
   "source": [
    "product.head(5)"
   ]
  },
  {
   "cell_type": "code",
   "execution_count": 5,
   "metadata": {},
   "outputs": [
    {
     "data": {
      "text/html": [
       "<div>\n",
       "<style scoped>\n",
       "    .dataframe tbody tr th:only-of-type {\n",
       "        vertical-align: middle;\n",
       "    }\n",
       "\n",
       "    .dataframe tbody tr th {\n",
       "        vertical-align: top;\n",
       "    }\n",
       "\n",
       "    .dataframe thead th {\n",
       "        text-align: right;\n",
       "    }\n",
       "</style>\n",
       "<table border=\"1\" class=\"dataframe\">\n",
       "  <thead>\n",
       "    <tr style=\"text-align: right;\">\n",
       "      <th></th>\n",
       "      <th>SalesID</th>\n",
       "      <th>SalesPersonID</th>\n",
       "      <th>CustomerID</th>\n",
       "      <th>ProductID</th>\n",
       "      <th>Quantity</th>\n",
       "      <th>Discount</th>\n",
       "      <th>TotalPrice</th>\n",
       "      <th>SalesDate</th>\n",
       "      <th>TransactionNumber</th>\n",
       "    </tr>\n",
       "  </thead>\n",
       "  <tbody>\n",
       "    <tr>\n",
       "      <th>0</th>\n",
       "      <td>1</td>\n",
       "      <td>6</td>\n",
       "      <td>27039</td>\n",
       "      <td>381</td>\n",
       "      <td>7</td>\n",
       "      <td>NaN</td>\n",
       "      <td>0,00</td>\n",
       "      <td>2018-02-05 07:38:25.430</td>\n",
       "      <td>FQL4S94E4ME1EZFTG42G</td>\n",
       "    </tr>\n",
       "    <tr>\n",
       "      <th>1</th>\n",
       "      <td>2</td>\n",
       "      <td>16</td>\n",
       "      <td>25011</td>\n",
       "      <td>61</td>\n",
       "      <td>7</td>\n",
       "      <td>NaN</td>\n",
       "      <td>0,00</td>\n",
       "      <td>2018-02-02 16:03:31.150</td>\n",
       "      <td>12UGLX40DJ1A5DTFBHB8</td>\n",
       "    </tr>\n",
       "    <tr>\n",
       "      <th>2</th>\n",
       "      <td>3</td>\n",
       "      <td>13</td>\n",
       "      <td>94024</td>\n",
       "      <td>23</td>\n",
       "      <td>24</td>\n",
       "      <td>NaN</td>\n",
       "      <td>0,00</td>\n",
       "      <td>2018-05-03 19:31:56.880</td>\n",
       "      <td>5DT8RCPL87KI5EORO7B0</td>\n",
       "    </tr>\n",
       "    <tr>\n",
       "      <th>3</th>\n",
       "      <td>4</td>\n",
       "      <td>8</td>\n",
       "      <td>73966</td>\n",
       "      <td>176</td>\n",
       "      <td>19</td>\n",
       "      <td>0.2</td>\n",
       "      <td>0,00</td>\n",
       "      <td>2018-04-07 14:43:55.420</td>\n",
       "      <td>R3DR9MLD5NR76VO17ULE</td>\n",
       "    </tr>\n",
       "    <tr>\n",
       "      <th>4</th>\n",
       "      <td>5</td>\n",
       "      <td>10</td>\n",
       "      <td>32653</td>\n",
       "      <td>310</td>\n",
       "      <td>9</td>\n",
       "      <td>NaN</td>\n",
       "      <td>0,00</td>\n",
       "      <td>2018-02-12 15:37:03.940</td>\n",
       "      <td>4BGS0Z5OMAZ8NDAFHHP3</td>\n",
       "    </tr>\n",
       "  </tbody>\n",
       "</table>\n",
       "</div>"
      ],
      "text/plain": [
       "   SalesID  SalesPersonID  CustomerID  ProductID  Quantity  Discount  \\\n",
       "0        1              6       27039        381         7       NaN   \n",
       "1        2             16       25011         61         7       NaN   \n",
       "2        3             13       94024         23        24       NaN   \n",
       "3        4              8       73966        176        19       0.2   \n",
       "4        5             10       32653        310         9       NaN   \n",
       "\n",
       "  TotalPrice                SalesDate     TransactionNumber  \n",
       "0       0,00  2018-02-05 07:38:25.430  FQL4S94E4ME1EZFTG42G  \n",
       "1       0,00  2018-02-02 16:03:31.150  12UGLX40DJ1A5DTFBHB8  \n",
       "2       0,00  2018-05-03 19:31:56.880  5DT8RCPL87KI5EORO7B0  \n",
       "3       0,00  2018-04-07 14:43:55.420  R3DR9MLD5NR76VO17ULE  \n",
       "4       0,00  2018-02-12 15:37:03.940  4BGS0Z5OMAZ8NDAFHHP3  "
      ]
     },
     "execution_count": 5,
     "metadata": {},
     "output_type": "execute_result"
    }
   ],
   "source": [
    "transaction.head(5)"
   ]
  },
  {
   "cell_type": "markdown",
   "metadata": {},
   "source": [
    "Colaborative filtering is usually implemented via matrix factorisation, so we need to convert this data set into a essentially a massive sparse matrix."
   ]
  },
  {
   "cell_type": "code",
   "execution_count": 6,
   "metadata": {},
   "outputs": [
    {
     "data": {
      "text/plain": [
       "array(['SalesID', 'SalesPersonID', 'CustomerID', 'ProductID', 'Quantity',\n",
       "       'Discount', 'TotalPrice', 'SalesDate', 'TransactionNumber'],\n",
       "      dtype=object)"
      ]
     },
     "execution_count": 6,
     "metadata": {},
     "output_type": "execute_result"
    }
   ],
   "source": [
    "transaction.columns.values"
   ]
  },
  {
   "cell_type": "code",
   "execution_count": 6,
   "metadata": {},
   "outputs": [
    {
     "data": {
      "text/html": [
       "<div>\n",
       "<style scoped>\n",
       "    .dataframe tbody tr th:only-of-type {\n",
       "        vertical-align: middle;\n",
       "    }\n",
       "\n",
       "    .dataframe tbody tr th {\n",
       "        vertical-align: top;\n",
       "    }\n",
       "\n",
       "    .dataframe thead th {\n",
       "        text-align: right;\n",
       "    }\n",
       "</style>\n",
       "<table border=\"1\" class=\"dataframe\">\n",
       "  <thead>\n",
       "    <tr style=\"text-align: right;\">\n",
       "      <th></th>\n",
       "      <th>CustomerID</th>\n",
       "      <th>ProductID</th>\n",
       "    </tr>\n",
       "  </thead>\n",
       "  <tbody>\n",
       "    <tr>\n",
       "      <th>0</th>\n",
       "      <td>27039</td>\n",
       "      <td>381</td>\n",
       "    </tr>\n",
       "    <tr>\n",
       "      <th>1</th>\n",
       "      <td>25011</td>\n",
       "      <td>61</td>\n",
       "    </tr>\n",
       "    <tr>\n",
       "      <th>2</th>\n",
       "      <td>94024</td>\n",
       "      <td>23</td>\n",
       "    </tr>\n",
       "    <tr>\n",
       "      <th>3</th>\n",
       "      <td>73966</td>\n",
       "      <td>176</td>\n",
       "    </tr>\n",
       "    <tr>\n",
       "      <th>4</th>\n",
       "      <td>32653</td>\n",
       "      <td>310</td>\n",
       "    </tr>\n",
       "  </tbody>\n",
       "</table>\n",
       "</div>"
      ],
      "text/plain": [
       "   CustomerID  ProductID\n",
       "0       27039        381\n",
       "1       25011         61\n",
       "2       94024         23\n",
       "3       73966        176\n",
       "4       32653        310"
      ]
     },
     "execution_count": 6,
     "metadata": {},
     "output_type": "execute_result"
    }
   ],
   "source": [
    "# Subset the sales to customer and product.\n",
    "tx_minimal = transaction[['CustomerID','ProductID']]\n",
    "tx_minimal.head()"
   ]
  },
  {
   "cell_type": "code",
   "execution_count": 7,
   "metadata": {},
   "outputs": [
    {
     "name": "stdout",
     "output_type": "stream",
     "text": [
      "98759 452\n"
     ]
    }
   ],
   "source": [
    "# Get the counts for customers and products\n",
    "n_customers = len(tx_minimal['CustomerID'].unique())\n",
    "n_products = len(tx_minimal['ProductID'].unique())\n",
    "print(n_customers, n_products)"
   ]
  },
  {
   "cell_type": "code",
   "execution_count": null,
   "metadata": {},
   "outputs": [
    {
     "name": "stdout",
     "output_type": "stream",
     "text": [
      "Min_customer: CustomerID    1\n",
      "dtype: int64 \n",
      " Min_Product: ProductID    1\n",
      "dtype: int64\n"
     ]
    }
   ],
   "source": [
    "# Check the min customer and product id\n",
    "print(\"Min_customer: {0} \\n Min_Product: {1}\".format(tx_minimal[['CustomerID']].min(), tx_minimal[['ProductID']].min()))"
   ]
  },
  {
   "cell_type": "code",
   "execution_count": null,
   "metadata": {},
   "outputs": [],
   "source": [
    "# Make the customers zero indexed for matrix operations\n",
    "def map_identifier(identifier):\n",
    "    return identifier - 1\n",
    "\n",
    "tx_minimal = tx_minimal.apply(map_identifier)"
   ]
  },
  {
   "cell_type": "code",
   "execution_count": null,
   "metadata": {},
   "outputs": [
    {
     "name": "stdout",
     "output_type": "stream",
     "text": [
      "Min_customer: CustomerID    0\n",
      "dtype: int64 \n",
      " Min_Product: ProductID    0\n",
      "dtype: int64\n"
     ]
    }
   ],
   "source": [
    "print(\"Min_customer: {0} \\n Min_Product: {1}\".format(tx_minimal[['CustomerID']].min(), tx_minimal[['ProductID']].min()))"
   ]
  },
  {
   "cell_type": "code",
   "execution_count": null,
   "metadata": {},
   "outputs": [
    {
     "name": "stderr",
     "output_type": "stream",
     "text": [
      "/usr/local/lib/python3.5/dist-packages/ipykernel_launcher.py:1: FutureWarning: Method .as_matrix will be removed in a future version. Use .values instead.\n",
      "  \"\"\"Entry point for launching an IPython kernel.\n"
     ]
    }
   ],
   "source": [
    "tx_matrix = tx_minimal.as_matrix()"
   ]
  },
  {
   "cell_type": "code",
   "execution_count": null,
   "metadata": {},
   "outputs": [
    {
     "data": {
      "text/plain": [
       "array([[27038,   380],\n",
       "       [25010,    60],\n",
       "       [94023,    22],\n",
       "       ...,\n",
       "       [44736,   377],\n",
       "       [79524,    76],\n",
       "       [95837,   401]])"
      ]
     },
     "execution_count": 12,
     "metadata": {},
     "output_type": "execute_result"
    }
   ],
   "source": [
    "tx_matrix"
   ]
  },
  {
   "cell_type": "code",
   "execution_count": null,
   "metadata": {},
   "outputs": [
    {
     "data": {
      "text/plain": [
       "array([[27038,   380,     1],\n",
       "       [25010,    60,     1],\n",
       "       [94023,    22,     1],\n",
       "       ...,\n",
       "       [44736,   377,     1],\n",
       "       [79524,    76,     1],\n",
       "       [95837,   401,     1]])"
      ]
     },
     "execution_count": 13,
     "metadata": {},
     "output_type": "execute_result"
    }
   ],
   "source": [
    "# Append a column of 1s to signify that this user bought this product\n",
    "bought = np.ones((tx_matrix.shape[0],3))\n",
    "bought[:,:-1] = tx_matrix\n",
    "tx_matrix = bought.astype(int)\n",
    "tx_matrix"
   ]
  },
  {
   "cell_type": "code",
   "execution_count": null,
   "metadata": {},
   "outputs": [],
   "source": [
    "tr_m, ts_m = train_test_split(tx_matrix,test_size = 0.1)"
   ]
  },
  {
   "cell_type": "code",
   "execution_count": null,
   "metadata": {},
   "outputs": [
    {
     "data": {
      "text/plain": [
       "(900000, 3)"
      ]
     },
     "execution_count": 15,
     "metadata": {},
     "output_type": "execute_result"
    }
   ],
   "source": [
    "tr_m.shape"
   ]
  },
  {
   "cell_type": "code",
   "execution_count": null,
   "metadata": {},
   "outputs": [
    {
     "data": {
      "text/plain": [
       "(100000, 3)"
      ]
     },
     "execution_count": 16,
     "metadata": {},
     "output_type": "execute_result"
    }
   ],
   "source": [
    "ts_m.shape"
   ]
  },
  {
   "cell_type": "code",
   "execution_count": null,
   "metadata": {},
   "outputs": [],
   "source": [
    "c_tr , p_tr, b_tr = zip(*tr_m)"
   ]
  },
  {
   "cell_type": "code",
   "execution_count": null,
   "metadata": {},
   "outputs": [],
   "source": [
    "tr_sparse = coo_matrix((b_tr, (c_tr, p_tr)), shape=(n_customers, n_products))"
   ]
  },
  {
   "cell_type": "code",
   "execution_count": null,
   "metadata": {},
   "outputs": [],
   "source": [
    "input_tensor = tf.SparseTensor(indices=list(zip(tr_sparse.row,tr_sparse.col))\n",
    "                               ,values=(tr_sparse.data).astype(np.float32)\n",
    "                               ,dense_shape=tr_sparse.shape)\n"
   ]
  },
  {
   "cell_type": "code",
   "execution_count": null,
   "metadata": {},
   "outputs": [
    {
     "name": "stdout",
     "output_type": "stream",
     "text": [
      "WARNING:tensorflow:From /usr/local/lib/python3.5/dist-packages/tensorflow/python/framework/op_def_library.py:263: colocate_with (from tensorflow.python.framework.ops) is deprecated and will be removed in a future version.\n",
      "Instructions for updating:\n",
      "Colocations handled automatically by placer.\n"
     ]
    }
   ],
   "source": [
    "model = factorization_ops.WALSModel(tr_sparse.shape[0],tr_sparse.shape[1], 10)"
   ]
  },
  {
   "cell_type": "code",
   "execution_count": null,
   "metadata": {},
   "outputs": [],
   "source": [
    "row_factor = model.row_factors[0]\n",
    "col_factor = model.col_factors[0]"
   ]
  },
  {
   "cell_type": "code",
   "execution_count": null,
   "metadata": {},
   "outputs": [],
   "source": [
    "# Train the Model\n",
    "row_update_op = model.update_row_factors(sp_input = input_tensor)[0]\n",
    "col_update_op = model.update_col_factors(sp_input = input_tensor)[1]"
   ]
  },
  {
   "cell_type": "code",
   "execution_count": null,
   "metadata": {},
   "outputs": [
    {
     "name": "stdout",
     "output_type": "stream",
     "text": [
      "DEBUG:tensorflow:running iter 0\n",
      "DEBUG:tensorflow:running iter 1\n",
      "DEBUG:tensorflow:running iter 2\n",
      "DEBUG:tensorflow:running iter 3\n",
      "DEBUG:tensorflow:running iter 4\n",
      "DEBUG:tensorflow:running iter 5\n",
      "DEBUG:tensorflow:running iter 6\n",
      "DEBUG:tensorflow:running iter 7\n",
      "DEBUG:tensorflow:running iter 8\n",
      "DEBUG:tensorflow:running iter 9\n",
      "DEBUG:tensorflow:running iter 10\n",
      "DEBUG:tensorflow:running iter 11\n",
      "DEBUG:tensorflow:running iter 12\n",
      "DEBUG:tensorflow:running iter 13\n",
      "DEBUG:tensorflow:running iter 14\n",
      "DEBUG:tensorflow:running iter 15\n",
      "DEBUG:tensorflow:running iter 16\n",
      "DEBUG:tensorflow:running iter 17\n",
      "DEBUG:tensorflow:running iter 18\n",
      "DEBUG:tensorflow:running iter 19\n",
      "DEBUG:tensorflow:running iter 20\n",
      "DEBUG:tensorflow:running iter 21\n",
      "DEBUG:tensorflow:running iter 22\n",
      "DEBUG:tensorflow:running iter 23\n",
      "DEBUG:tensorflow:running iter 24\n",
      "DEBUG:tensorflow:running iter 25\n",
      "DEBUG:tensorflow:running iter 26\n",
      "DEBUG:tensorflow:running iter 27\n",
      "DEBUG:tensorflow:running iter 28\n",
      "DEBUG:tensorflow:running iter 29\n",
      "DEBUG:tensorflow:running iter 30\n",
      "DEBUG:tensorflow:running iter 31\n",
      "DEBUG:tensorflow:running iter 32\n",
      "DEBUG:tensorflow:running iter 33\n",
      "DEBUG:tensorflow:running iter 34\n",
      "DEBUG:tensorflow:running iter 35\n",
      "DEBUG:tensorflow:running iter 36\n",
      "DEBUG:tensorflow:running iter 37\n",
      "DEBUG:tensorflow:running iter 38\n",
      "DEBUG:tensorflow:running iter 39\n",
      "DEBUG:tensorflow:running iter 40\n",
      "DEBUG:tensorflow:running iter 41\n",
      "DEBUG:tensorflow:running iter 42\n",
      "DEBUG:tensorflow:running iter 43\n",
      "DEBUG:tensorflow:running iter 44\n",
      "DEBUG:tensorflow:running iter 45\n",
      "DEBUG:tensorflow:running iter 46\n",
      "DEBUG:tensorflow:running iter 47\n",
      "DEBUG:tensorflow:running iter 48\n",
      "DEBUG:tensorflow:running iter 49\n",
      "DEBUG:tensorflow:running iter 50\n",
      "DEBUG:tensorflow:running iter 51\n",
      "DEBUG:tensorflow:running iter 52\n",
      "DEBUG:tensorflow:running iter 53\n",
      "DEBUG:tensorflow:running iter 54\n",
      "DEBUG:tensorflow:running iter 55\n",
      "DEBUG:tensorflow:running iter 56\n",
      "DEBUG:tensorflow:running iter 57\n",
      "DEBUG:tensorflow:running iter 58\n",
      "DEBUG:tensorflow:running iter 59\n",
      "DEBUG:tensorflow:running iter 60\n",
      "DEBUG:tensorflow:running iter 61\n",
      "DEBUG:tensorflow:running iter 62\n",
      "DEBUG:tensorflow:running iter 63\n",
      "DEBUG:tensorflow:running iter 64\n",
      "DEBUG:tensorflow:running iter 65\n",
      "DEBUG:tensorflow:running iter 66\n",
      "DEBUG:tensorflow:running iter 67\n",
      "DEBUG:tensorflow:running iter 68\n",
      "DEBUG:tensorflow:running iter 69\n",
      "DEBUG:tensorflow:running iter 70\n",
      "DEBUG:tensorflow:running iter 71\n",
      "DEBUG:tensorflow:running iter 72\n",
      "DEBUG:tensorflow:running iter 73\n",
      "DEBUG:tensorflow:running iter 74\n",
      "DEBUG:tensorflow:running iter 75\n",
      "DEBUG:tensorflow:running iter 76\n",
      "DEBUG:tensorflow:running iter 77\n",
      "DEBUG:tensorflow:running iter 78\n",
      "DEBUG:tensorflow:running iter 79\n",
      "DEBUG:tensorflow:running iter 80\n",
      "DEBUG:tensorflow:running iter 81\n",
      "DEBUG:tensorflow:running iter 82\n",
      "DEBUG:tensorflow:running iter 83\n",
      "DEBUG:tensorflow:running iter 84\n",
      "DEBUG:tensorflow:running iter 85\n",
      "DEBUG:tensorflow:running iter 86\n",
      "DEBUG:tensorflow:running iter 87\n",
      "DEBUG:tensorflow:running iter 88\n",
      "DEBUG:tensorflow:running iter 89\n",
      "DEBUG:tensorflow:running iter 90\n",
      "DEBUG:tensorflow:running iter 91\n",
      "DEBUG:tensorflow:running iter 92\n",
      "DEBUG:tensorflow:running iter 93\n",
      "DEBUG:tensorflow:running iter 94\n",
      "DEBUG:tensorflow:running iter 95\n",
      "DEBUG:tensorflow:running iter 96\n",
      "DEBUG:tensorflow:running iter 97\n",
      "DEBUG:tensorflow:running iter 98\n",
      "DEBUG:tensorflow:running iter 99\n",
      "DEBUG:tensorflow:running iter 100\n",
      "DEBUG:tensorflow:running iter 101\n",
      "DEBUG:tensorflow:running iter 102\n",
      "DEBUG:tensorflow:running iter 103\n",
      "DEBUG:tensorflow:running iter 104\n",
      "DEBUG:tensorflow:running iter 105\n",
      "DEBUG:tensorflow:running iter 106\n",
      "DEBUG:tensorflow:running iter 107\n",
      "DEBUG:tensorflow:running iter 108\n",
      "DEBUG:tensorflow:running iter 109\n",
      "DEBUG:tensorflow:running iter 110\n",
      "DEBUG:tensorflow:running iter 111\n",
      "DEBUG:tensorflow:running iter 112\n",
      "DEBUG:tensorflow:running iter 113\n",
      "DEBUG:tensorflow:running iter 114\n",
      "DEBUG:tensorflow:running iter 115\n",
      "DEBUG:tensorflow:running iter 116\n",
      "DEBUG:tensorflow:running iter 117\n",
      "DEBUG:tensorflow:running iter 118\n",
      "DEBUG:tensorflow:running iter 119\n",
      "DEBUG:tensorflow:running iter 120\n",
      "DEBUG:tensorflow:running iter 121\n",
      "DEBUG:tensorflow:running iter 122\n",
      "DEBUG:tensorflow:running iter 123\n",
      "DEBUG:tensorflow:running iter 124\n",
      "DEBUG:tensorflow:running iter 125\n",
      "DEBUG:tensorflow:running iter 126\n",
      "DEBUG:tensorflow:running iter 127\n",
      "DEBUG:tensorflow:running iter 128\n",
      "DEBUG:tensorflow:running iter 129\n",
      "DEBUG:tensorflow:running iter 130\n",
      "DEBUG:tensorflow:running iter 131\n",
      "DEBUG:tensorflow:running iter 132\n",
      "DEBUG:tensorflow:running iter 133\n",
      "DEBUG:tensorflow:running iter 134\n",
      "DEBUG:tensorflow:running iter 135\n",
      "DEBUG:tensorflow:running iter 136\n",
      "DEBUG:tensorflow:running iter 137\n",
      "DEBUG:tensorflow:running iter 138\n",
      "DEBUG:tensorflow:running iter 139\n",
      "DEBUG:tensorflow:running iter 140\n",
      "DEBUG:tensorflow:running iter 141\n",
      "DEBUG:tensorflow:running iter 142\n",
      "DEBUG:tensorflow:running iter 143\n",
      "DEBUG:tensorflow:running iter 144\n",
      "DEBUG:tensorflow:running iter 145\n",
      "DEBUG:tensorflow:running iter 146\n",
      "DEBUG:tensorflow:running iter 147\n",
      "DEBUG:tensorflow:running iter 148\n",
      "DEBUG:tensorflow:running iter 149\n",
      "DEBUG:tensorflow:running iter 150\n",
      "DEBUG:tensorflow:running iter 151\n",
      "DEBUG:tensorflow:running iter 152\n",
      "DEBUG:tensorflow:running iter 153\n",
      "DEBUG:tensorflow:running iter 154\n",
      "DEBUG:tensorflow:running iter 155\n",
      "DEBUG:tensorflow:running iter 156\n",
      "DEBUG:tensorflow:running iter 157\n",
      "DEBUG:tensorflow:running iter 158\n",
      "DEBUG:tensorflow:running iter 159\n",
      "DEBUG:tensorflow:running iter 160\n",
      "DEBUG:tensorflow:running iter 161\n",
      "DEBUG:tensorflow:running iter 162\n",
      "DEBUG:tensorflow:running iter 163\n",
      "DEBUG:tensorflow:running iter 164\n",
      "DEBUG:tensorflow:running iter 165\n",
      "DEBUG:tensorflow:running iter 166\n",
      "DEBUG:tensorflow:running iter 167\n",
      "DEBUG:tensorflow:running iter 168\n",
      "DEBUG:tensorflow:running iter 169\n",
      "DEBUG:tensorflow:running iter 170\n",
      "DEBUG:tensorflow:running iter 171\n",
      "DEBUG:tensorflow:running iter 172\n",
      "DEBUG:tensorflow:running iter 173\n",
      "DEBUG:tensorflow:running iter 174\n",
      "DEBUG:tensorflow:running iter 175\n",
      "DEBUG:tensorflow:running iter 176\n",
      "DEBUG:tensorflow:running iter 177\n",
      "DEBUG:tensorflow:running iter 178\n",
      "DEBUG:tensorflow:running iter 179\n",
      "DEBUG:tensorflow:running iter 180\n",
      "DEBUG:tensorflow:running iter 181\n",
      "DEBUG:tensorflow:running iter 182\n",
      "DEBUG:tensorflow:running iter 183\n",
      "DEBUG:tensorflow:running iter 184\n",
      "DEBUG:tensorflow:running iter 185\n",
      "DEBUG:tensorflow:running iter 186\n",
      "DEBUG:tensorflow:running iter 187\n",
      "DEBUG:tensorflow:running iter 188\n",
      "DEBUG:tensorflow:running iter 189\n",
      "DEBUG:tensorflow:running iter 190\n",
      "DEBUG:tensorflow:running iter 191\n",
      "DEBUG:tensorflow:running iter 192\n",
      "DEBUG:tensorflow:running iter 193\n",
      "DEBUG:tensorflow:running iter 194\n",
      "DEBUG:tensorflow:running iter 195\n",
      "DEBUG:tensorflow:running iter 196\n",
      "DEBUG:tensorflow:running iter 197\n",
      "DEBUG:tensorflow:running iter 198\n",
      "DEBUG:tensorflow:running iter 199\n",
      "DEBUG:tensorflow:running iter 200\n",
      "DEBUG:tensorflow:running iter 201\n",
      "DEBUG:tensorflow:running iter 202\n",
      "DEBUG:tensorflow:running iter 203\n",
      "DEBUG:tensorflow:running iter 204\n",
      "DEBUG:tensorflow:running iter 205\n",
      "DEBUG:tensorflow:running iter 206\n",
      "DEBUG:tensorflow:running iter 207\n",
      "DEBUG:tensorflow:running iter 208\n",
      "DEBUG:tensorflow:running iter 209\n",
      "DEBUG:tensorflow:running iter 210\n",
      "DEBUG:tensorflow:running iter 211\n",
      "DEBUG:tensorflow:running iter 212\n",
      "DEBUG:tensorflow:running iter 213\n",
      "DEBUG:tensorflow:running iter 214\n",
      "DEBUG:tensorflow:running iter 215\n",
      "DEBUG:tensorflow:running iter 216\n",
      "DEBUG:tensorflow:running iter 217\n",
      "DEBUG:tensorflow:running iter 218\n",
      "DEBUG:tensorflow:running iter 219\n",
      "DEBUG:tensorflow:running iter 220\n",
      "DEBUG:tensorflow:running iter 221\n",
      "DEBUG:tensorflow:running iter 222\n",
      "DEBUG:tensorflow:running iter 223\n",
      "DEBUG:tensorflow:running iter 224\n",
      "DEBUG:tensorflow:running iter 225\n",
      "DEBUG:tensorflow:running iter 226\n",
      "DEBUG:tensorflow:running iter 227\n",
      "DEBUG:tensorflow:running iter 228\n",
      "DEBUG:tensorflow:running iter 229\n",
      "DEBUG:tensorflow:running iter 230\n",
      "DEBUG:tensorflow:running iter 231\n",
      "DEBUG:tensorflow:running iter 232\n",
      "DEBUG:tensorflow:running iter 233\n",
      "DEBUG:tensorflow:running iter 234\n",
      "DEBUG:tensorflow:running iter 235\n",
      "DEBUG:tensorflow:running iter 236\n",
      "DEBUG:tensorflow:running iter 237\n",
      "DEBUG:tensorflow:running iter 238\n",
      "DEBUG:tensorflow:running iter 239\n",
      "DEBUG:tensorflow:running iter 240\n",
      "DEBUG:tensorflow:running iter 241\n",
      "DEBUG:tensorflow:running iter 242\n",
      "DEBUG:tensorflow:running iter 243\n",
      "DEBUG:tensorflow:running iter 244\n"
     ]
    },
    {
     "name": "stdout",
     "output_type": "stream",
     "text": [
      "DEBUG:tensorflow:running iter 245\n",
      "DEBUG:tensorflow:running iter 246\n",
      "DEBUG:tensorflow:running iter 247\n",
      "DEBUG:tensorflow:running iter 248\n",
      "DEBUG:tensorflow:running iter 249\n",
      "DEBUG:tensorflow:running iter 250\n",
      "DEBUG:tensorflow:running iter 251\n",
      "DEBUG:tensorflow:running iter 252\n",
      "DEBUG:tensorflow:running iter 253\n",
      "DEBUG:tensorflow:running iter 254\n",
      "DEBUG:tensorflow:running iter 255\n",
      "DEBUG:tensorflow:running iter 256\n",
      "DEBUG:tensorflow:running iter 257\n",
      "DEBUG:tensorflow:running iter 258\n",
      "DEBUG:tensorflow:running iter 259\n",
      "DEBUG:tensorflow:running iter 260\n",
      "DEBUG:tensorflow:running iter 261\n",
      "DEBUG:tensorflow:running iter 262\n",
      "DEBUG:tensorflow:running iter 263\n",
      "DEBUG:tensorflow:running iter 264\n",
      "DEBUG:tensorflow:running iter 265\n",
      "DEBUG:tensorflow:running iter 266\n",
      "DEBUG:tensorflow:running iter 267\n",
      "DEBUG:tensorflow:running iter 268\n",
      "DEBUG:tensorflow:running iter 269\n",
      "DEBUG:tensorflow:running iter 270\n",
      "DEBUG:tensorflow:running iter 271\n",
      "DEBUG:tensorflow:running iter 272\n",
      "DEBUG:tensorflow:running iter 273\n",
      "DEBUG:tensorflow:running iter 274\n",
      "DEBUG:tensorflow:running iter 275\n",
      "DEBUG:tensorflow:running iter 276\n",
      "DEBUG:tensorflow:running iter 277\n",
      "DEBUG:tensorflow:running iter 278\n",
      "DEBUG:tensorflow:running iter 279\n",
      "DEBUG:tensorflow:running iter 280\n",
      "DEBUG:tensorflow:running iter 281\n",
      "DEBUG:tensorflow:running iter 282\n",
      "DEBUG:tensorflow:running iter 283\n",
      "DEBUG:tensorflow:running iter 284\n",
      "DEBUG:tensorflow:running iter 285\n",
      "DEBUG:tensorflow:running iter 286\n",
      "DEBUG:tensorflow:running iter 287\n",
      "DEBUG:tensorflow:running iter 288\n",
      "DEBUG:tensorflow:running iter 289\n",
      "DEBUG:tensorflow:running iter 290\n",
      "DEBUG:tensorflow:running iter 291\n",
      "DEBUG:tensorflow:running iter 292\n",
      "DEBUG:tensorflow:running iter 293\n",
      "DEBUG:tensorflow:running iter 294\n",
      "DEBUG:tensorflow:running iter 295\n",
      "DEBUG:tensorflow:running iter 296\n",
      "DEBUG:tensorflow:running iter 297\n",
      "DEBUG:tensorflow:running iter 298\n",
      "DEBUG:tensorflow:running iter 299\n",
      "DEBUG:tensorflow:running iter 300\n",
      "DEBUG:tensorflow:running iter 301\n",
      "DEBUG:tensorflow:running iter 302\n",
      "DEBUG:tensorflow:running iter 303\n",
      "DEBUG:tensorflow:running iter 304\n",
      "DEBUG:tensorflow:running iter 305\n",
      "DEBUG:tensorflow:running iter 306\n",
      "DEBUG:tensorflow:running iter 307\n",
      "DEBUG:tensorflow:running iter 308\n",
      "DEBUG:tensorflow:running iter 309\n",
      "DEBUG:tensorflow:running iter 310\n",
      "DEBUG:tensorflow:running iter 311\n",
      "DEBUG:tensorflow:running iter 312\n",
      "DEBUG:tensorflow:running iter 313\n",
      "DEBUG:tensorflow:running iter 314\n",
      "DEBUG:tensorflow:running iter 315\n",
      "DEBUG:tensorflow:running iter 316\n",
      "DEBUG:tensorflow:running iter 317\n",
      "DEBUG:tensorflow:running iter 318\n",
      "DEBUG:tensorflow:running iter 319\n",
      "DEBUG:tensorflow:running iter 320\n",
      "DEBUG:tensorflow:running iter 321\n",
      "DEBUG:tensorflow:running iter 322\n",
      "DEBUG:tensorflow:running iter 323\n",
      "DEBUG:tensorflow:running iter 324\n",
      "DEBUG:tensorflow:running iter 325\n",
      "DEBUG:tensorflow:running iter 326\n",
      "DEBUG:tensorflow:running iter 327\n",
      "DEBUG:tensorflow:running iter 328\n",
      "DEBUG:tensorflow:running iter 329\n",
      "DEBUG:tensorflow:running iter 330\n",
      "DEBUG:tensorflow:running iter 331\n",
      "DEBUG:tensorflow:running iter 332\n",
      "DEBUG:tensorflow:running iter 333\n",
      "DEBUG:tensorflow:running iter 334\n",
      "DEBUG:tensorflow:running iter 335\n",
      "DEBUG:tensorflow:running iter 336\n",
      "DEBUG:tensorflow:running iter 337\n",
      "DEBUG:tensorflow:running iter 338\n",
      "DEBUG:tensorflow:running iter 339\n",
      "DEBUG:tensorflow:running iter 340\n",
      "DEBUG:tensorflow:running iter 341\n",
      "DEBUG:tensorflow:running iter 342\n",
      "DEBUG:tensorflow:running iter 343\n",
      "DEBUG:tensorflow:running iter 344\n",
      "DEBUG:tensorflow:running iter 345\n",
      "DEBUG:tensorflow:running iter 346\n",
      "DEBUG:tensorflow:running iter 347\n",
      "DEBUG:tensorflow:running iter 348\n",
      "DEBUG:tensorflow:running iter 349\n",
      "DEBUG:tensorflow:running iter 350\n",
      "DEBUG:tensorflow:running iter 351\n",
      "DEBUG:tensorflow:running iter 352\n",
      "DEBUG:tensorflow:running iter 353\n",
      "DEBUG:tensorflow:running iter 354\n",
      "DEBUG:tensorflow:running iter 355\n",
      "DEBUG:tensorflow:running iter 356\n",
      "DEBUG:tensorflow:running iter 357\n",
      "DEBUG:tensorflow:running iter 358\n",
      "DEBUG:tensorflow:running iter 359\n",
      "DEBUG:tensorflow:running iter 360\n",
      "DEBUG:tensorflow:running iter 361\n",
      "DEBUG:tensorflow:running iter 362\n",
      "DEBUG:tensorflow:running iter 363\n",
      "DEBUG:tensorflow:running iter 364\n",
      "DEBUG:tensorflow:running iter 365\n",
      "DEBUG:tensorflow:running iter 366\n",
      "DEBUG:tensorflow:running iter 367\n",
      "DEBUG:tensorflow:running iter 368\n",
      "DEBUG:tensorflow:running iter 369\n",
      "DEBUG:tensorflow:running iter 370\n",
      "DEBUG:tensorflow:running iter 371\n",
      "DEBUG:tensorflow:running iter 372\n",
      "DEBUG:tensorflow:running iter 373\n",
      "DEBUG:tensorflow:running iter 374\n",
      "DEBUG:tensorflow:running iter 375\n",
      "DEBUG:tensorflow:running iter 376\n",
      "DEBUG:tensorflow:running iter 377\n",
      "DEBUG:tensorflow:running iter 378\n",
      "DEBUG:tensorflow:running iter 379\n",
      "DEBUG:tensorflow:running iter 380\n",
      "DEBUG:tensorflow:running iter 381\n",
      "DEBUG:tensorflow:running iter 382\n",
      "DEBUG:tensorflow:running iter 383\n",
      "DEBUG:tensorflow:running iter 384\n",
      "DEBUG:tensorflow:running iter 385\n",
      "DEBUG:tensorflow:running iter 386\n",
      "DEBUG:tensorflow:running iter 387\n",
      "DEBUG:tensorflow:running iter 388\n",
      "DEBUG:tensorflow:running iter 389\n",
      "DEBUG:tensorflow:running iter 390\n",
      "DEBUG:tensorflow:running iter 391\n",
      "DEBUG:tensorflow:running iter 392\n",
      "DEBUG:tensorflow:running iter 393\n",
      "DEBUG:tensorflow:running iter 394\n",
      "DEBUG:tensorflow:running iter 395\n",
      "DEBUG:tensorflow:running iter 396\n",
      "DEBUG:tensorflow:running iter 397\n",
      "DEBUG:tensorflow:running iter 398\n",
      "DEBUG:tensorflow:running iter 399\n",
      "DEBUG:tensorflow:running iter 400\n",
      "DEBUG:tensorflow:running iter 401\n",
      "DEBUG:tensorflow:running iter 402\n",
      "DEBUG:tensorflow:running iter 403\n",
      "DEBUG:tensorflow:running iter 404\n",
      "DEBUG:tensorflow:running iter 405\n"
     ]
    }
   ],
   "source": [
    "with tf.Session() as sess:\n",
    "    sess.run(model.initialize_op)\n",
    "    sess.run(model.worker_init)\n",
    "    \n",
    "    for _ in range(2000):\n",
    "        logger.debug(\"running iter {0}\".format(_))\n",
    "        sess.run(model.row_update_prep_gramian_op)\n",
    "        sess.run(model.initialize_row_update_op)\n",
    "        sess.run(row_update_op)\n",
    "        sess.run(model.col_update_prep_gramian_op)\n",
    "        sess.run(model.initialize_col_update_op)\n",
    "        sess.run(col_update_op)\n",
    "        \n",
    "        output_row = row_factor.eval(session=sess)\n",
    "        output_col = col_factor.eval(session=sess)"
   ]
  },
  {
   "cell_type": "code",
   "execution_count": null,
   "metadata": {},
   "outputs": [],
   "source": [
    "output_row.shape"
   ]
  },
  {
   "cell_type": "code",
   "execution_count": null,
   "metadata": {},
   "outputs": [],
   "source": [
    "# Predict \n",
    "user_id = 33633\n",
    "user_factor = output_row[user_id]"
   ]
  },
  {
   "cell_type": "code",
   "execution_count": null,
   "metadata": {},
   "outputs": [],
   "source": [
    "pred = output_col.dot(user_factor)"
   ]
  },
  {
   "cell_type": "code",
   "execution_count": null,
   "metadata": {},
   "outputs": [],
   "source": [
    "candidate_items = np.argsort(pred)"
   ]
  },
  {
   "cell_type": "code",
   "execution_count": null,
   "metadata": {},
   "outputs": [],
   "source": [
    "candidate_items"
   ]
  },
  {
   "cell_type": "code",
   "execution_count": null,
   "metadata": {},
   "outputs": [],
   "source": [
    "10 + len([3,4,5])"
   ]
  },
  {
   "cell_type": "code",
   "execution_count": null,
   "metadata": {},
   "outputs": [],
   "source": [
    "candidate_items[-13:]"
   ]
  },
  {
   "cell_type": "code",
   "execution_count": null,
   "metadata": {},
   "outputs": [],
   "source": [
    "product[product['\\ufeffProductID'] == 342]"
   ]
  },
  {
   "cell_type": "code",
   "execution_count": null,
   "metadata": {},
   "outputs": [],
   "source": [
    "product.columns.values"
   ]
  },
  {
   "cell_type": "code",
   "execution_count": null,
   "metadata": {},
   "outputs": [],
   "source": [
    "ts_m"
   ]
  },
  {
   "cell_type": "code",
   "execution_count": null,
   "metadata": {},
   "outputs": [],
   "source": []
  }
 ],
 "metadata": {
  "kernelspec": {
   "display_name": "Python 3",
   "language": "python",
   "name": "python3"
  },
  "language_info": {
   "codemirror_mode": {
    "name": "ipython",
    "version": 3
   },
   "file_extension": ".py",
   "mimetype": "text/x-python",
   "name": "python",
   "nbconvert_exporter": "python",
   "pygments_lexer": "ipython3",
   "version": "3.5.2"
  }
 },
 "nbformat": 4,
 "nbformat_minor": 2
}
